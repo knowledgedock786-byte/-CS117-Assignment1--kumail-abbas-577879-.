{
  "cells": [
    {
      "cell_type": "code",
      "source": [
        "                                  #program to check armstrong numbers between any range\n",
        "def cubesum(number):\n",
        "    sum_of_cubes = 0\n",
        "    temp = number\n",
        "    while temp > 0:\n",
        "        digit = temp % 10\n",
        "        sum_of_cubes += digit ** 3\n",
        "        temp = temp // 10\n",
        "    return sum_of_cubes\n",
        "def isArmstrong(number):\n",
        "    return number == cubesum(number)\n",
        "def PrintArmstrong(start, end):\n",
        "    print(f\"Armstrong numbers between {start} and {end}:\")\n",
        "    for num in range(start, end + 1):\n",
        "        if isArmstrong(num):\n",
        "            print(num, end=' ')\n",
        "    print()\n",
        "PrintArmstrong(1, 500)\n",
        "\n",
        "                           # Check if a specific number is Armstrong\n",
        "num = int(input(\"Enter a number to check if it's Armstrong: \"))\n",
        "if isArmstrong(num):\n",
        "    print(f\"{num} is an Armstrong number\")\n",
        "else:\n",
        "    print(f\"{num} is not an Armstrong number\")"
      ],
      "metadata": {
        "colab": {
          "base_uri": "https://localhost:8080/"
        },
        "id": "PWTBbUJPlXBA",
        "outputId": "a042606b-a750-4a14-96a9-7962a98e2c4e"
      },
      "execution_count": 50,
      "outputs": [
        {
          "output_type": "stream",
          "name": "stdout",
          "text": [
            "Armstrong numbers between 1 and 500:\n",
            "1 153 370 371 407 \n",
            "Enter a number to check if it's Armstrong: 9474\n",
            "9474 is not an Armstrong number\n"
          ]
        }
      ]
    }
  ],
  "metadata": {
    "colab": {
      "name": "Welcome To Colab",
      "provenance": []
    },
    "kernelspec": {
      "display_name": "Python 3",
      "name": "python3"
    }
  },
  "nbformat": 4,
  "nbformat_minor": 0
}