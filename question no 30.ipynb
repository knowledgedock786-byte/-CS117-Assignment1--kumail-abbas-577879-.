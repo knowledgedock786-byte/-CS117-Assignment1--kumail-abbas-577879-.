{
  "cells": [
    {
      "cell_type": "code",
      "source": [
        "def decimal_to_binary(decimal_number):\n",
        "    if decimal_number == 0:\n",
        "        return \"0\"\n",
        "    binary_number = \"\"\n",
        "    while decimal_number > 0:\n",
        "        remainder = decimal_number % 2\n",
        "        binary_number = str(remainder) + binary_number\n",
        "        decimal_number = decimal_number // 2\n",
        "    return binary_number\n",
        "num = int(input(\"Enter a decimal number: \"))\n",
        "binary = decimal_to_binary(num)\n",
        "print(f\"Binary of {num} is {binary}\")"
      ],
      "metadata": {
        "colab": {
          "base_uri": "https://localhost:8080/"
        },
        "id": "PWTBbUJPlXBA",
        "outputId": "56e6379b-f1f8-402d-aaac-da27a04f60b8"
      },
      "execution_count": 48,
      "outputs": [
        {
          "output_type": "stream",
          "name": "stdout",
          "text": [
            "Enter a decimal number: 555\n",
            "Binary of 555 is 1000101011\n"
          ]
        }
      ]
    }
  ],
  "metadata": {
    "colab": {
      "name": "Welcome To Colab",
      "provenance": []
    },
    "kernelspec": {
      "display_name": "Python 3",
      "name": "python3"
    }
  },
  "nbformat": 4,
  "nbformat_minor": 0
}