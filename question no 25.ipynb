{
  "cells": [
    {
      "cell_type": "code",
      "source": [
        "def is_palindrome(i):\n",
        "    i = i.replace(\" \", \"\").lower()\n",
        "    return i == i[::-1]\n",
        "user_input = input(\"Enter a string: \")\n",
        "if is_palindrome(user_input):\n",
        "    print(\"It is a palindrome\")\n",
        "else:\n",
        "    print(\"It is not a palindrome\")"
      ],
      "metadata": {
        "colab": {
          "base_uri": "https://localhost:8080/"
        },
        "id": "PWTBbUJPlXBA",
        "outputId": "7c586ae7-7059-41dd-9bf4-eab6f73024fd"
      },
      "execution_count": 27,
      "outputs": [
        {
          "output_type": "stream",
          "name": "stdout",
          "text": [
            "Enter a string: masam\n",
            "It is a palindrome\n"
          ]
        }
      ]
    }
  ],
  "metadata": {
    "colab": {
      "name": "Welcome To Colab",
      "provenance": []
    },
    "kernelspec": {
      "display_name": "Python 3",
      "name": "python3"
    }
  },
  "nbformat": 4,
  "nbformat_minor": 0
}