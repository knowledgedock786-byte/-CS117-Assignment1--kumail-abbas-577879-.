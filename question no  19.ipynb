{
  "cells": [
    {
      "cell_type": "code",
      "source": [
        "password = input(\"Enter your password: \")\n",
        "lowercase = uppercase = number = special = False\n",
        "for i in password:\n",
        "    if i.islower():\n",
        "        lowercase = True\n",
        "    elif i.isupper():\n",
        "        uppercase = True\n",
        "    elif i.isdigit():\n",
        "        number = True\n",
        "    elif i in \"$#@\":\n",
        "        special = True\n",
        "if (len(password) >= 6 and len(password) <= 16 and\n",
        "    lowercase and uppercase and number and special):\n",
        "    print(\"Valid password\")\n",
        "else:\n",
        "    print(\"Invalid password\")"
      ],
      "metadata": {
        "colab": {
          "base_uri": "https://localhost:8080/"
        },
        "id": "PWTBbUJPlXBA",
        "outputId": "95ceca6a-320d-4f77-e715-0343541577e6"
      },
      "execution_count": 14,
      "outputs": [
        {
          "output_type": "stream",
          "name": "stdout",
          "text": [
            "Enter your password: Kum@1l\n",
            "Valid password\n"
          ]
        }
      ]
    }
  ],
  "metadata": {
    "colab": {
      "name": "Welcome To Colab",
      "toc_visible": true,
      "provenance": []
    },
    "kernelspec": {
      "display_name": "Python 3",
      "name": "python3"
    }
  },
  "nbformat": 4,
  "nbformat_minor": 0
}