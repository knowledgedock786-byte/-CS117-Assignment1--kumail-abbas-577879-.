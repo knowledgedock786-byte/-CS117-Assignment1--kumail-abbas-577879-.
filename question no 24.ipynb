{
  "cells": [
    {
      "cell_type": "code",
      "source": [
        "def reverse_string(s):\n",
        "    return s[::-1]\n",
        "user_input = input(\"Enter the string you want to rewerse: \")\n",
        "print(\"Reversed of your string is:\", reverse_string(user_input))"
      ],
      "metadata": {
        "colab": {
          "base_uri": "https://localhost:8080/"
        },
        "id": "PWTBbUJPlXBA",
        "outputId": "91d58820-ceda-49a1-a9ed-44c7494dd339"
      },
      "execution_count": 25,
      "outputs": [
        {
          "output_type": "stream",
          "name": "stdout",
          "text": [
            "Enter the string you want to rewerse: kumail123\n",
            "Reversed of your string is: 321liamuk\n"
          ]
        }
      ]
    }
  ],
  "metadata": {
    "colab": {
      "name": "Welcome To Colab",
      "provenance": []
    },
    "kernelspec": {
      "display_name": "Python 3",
      "name": "python3"
    }
  },
  "nbformat": 4,
  "nbformat_minor": 0
}