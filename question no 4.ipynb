{
  "cells": [
    {
      "cell_type": "code",
      "source": [
        "number = int(input(\"Enter a number: \"))\n",
        "if number % 5 == 0:\n",
        "    print(\"I am hero\")\n",
        "else:\n",
        "    print(\"This is not a hero, try again\")"
      ],
      "metadata": {
        "id": "PWTBbUJPlXBA",
        "outputId": "d63464d9-9b94-46ff-d7f7-cd0063fd5911",
        "colab": {
          "base_uri": "https://localhost:8080/"
        }
      },
      "execution_count": 6,
      "outputs": [
        {
          "output_type": "stream",
          "name": "stdout",
          "text": [
            "Enter a number: 75\n",
            "I am hero\n"
          ]
        }
      ]
    }
  ],
  "metadata": {
    "colab": {
      "name": "Welcome To Colab",
      "toc_visible": true,
      "provenance": []
    },
    "kernelspec": {
      "display_name": "Python 3",
      "name": "python3"
    }
  },
  "nbformat": 4,
  "nbformat_minor": 0
}