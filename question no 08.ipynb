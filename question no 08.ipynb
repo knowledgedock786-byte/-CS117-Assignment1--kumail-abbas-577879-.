{
  "cells": [
    {
      "cell_type": "code",
      "source": [
        "person_1 = int(input(\"Enter age of first person: \"))\n",
        "person_2 = int(input(\"Enter age of second person: \"))\n",
        "person_3 = int(input(\"Enter age of third person: \"))\n",
        "person_4 = int(input(\"Enter age of fourth person: \"))\n",
        "if person_1 < person_2 and person_1 < person_3 and person_1 < person_4:\n",
        "    print(\"The youngest person age is:\", person_1)\n",
        "elif  person_2 < person_1 and person_2 < person_3 and person_2 < person_4:\n",
        "    print(\"The youngest person age is:\", person_2)\n",
        "elif person_3 < person_1 and person_3 < person_2 and person_3 < person_4:\n",
        "    print(\"The youngest person age is:\", person_3)\n",
        "else:\n",
        "    print(\"The youngest person age is:\", person_4)"
      ],
      "metadata": {
        "colab": {
          "base_uri": "https://localhost:8080/"
        },
        "id": "PWTBbUJPlXBA",
        "outputId": "05d04e1d-50a9-4a34-9af1-865602ecc1ff"
      },
      "execution_count": 21,
      "outputs": [
        {
          "output_type": "stream",
          "name": "stdout",
          "text": [
            "Enter age of first person: 45\n",
            "Enter age of second person: 55\n",
            "Enter age of third person: 44\n",
            "Enter age of fourth person: 35\n",
            "The youngest person age is: 35\n"
          ]
        }
      ]
    }
  ],
  "metadata": {
    "colab": {
      "name": "Welcome To Colab",
      "toc_visible": true,
      "provenance": []
    },
    "kernelspec": {
      "display_name": "Python 3",
      "name": "python3"
    }
  },
  "nbformat": 4,
  "nbformat_minor": 0
}