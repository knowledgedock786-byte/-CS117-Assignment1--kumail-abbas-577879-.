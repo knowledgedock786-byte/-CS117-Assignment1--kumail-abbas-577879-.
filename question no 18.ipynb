{
  "cells": [
    {
      "cell_type": "code",
      "source": [
        "m = int(input(\"Enter number of rows: \"))\n",
        "n = int(input(\"Enter number of columns: \"))\n",
        "result = []\n",
        "for i in range(m):\n",
        "    row = []\n",
        "    for j in range(n):\n",
        "        row.append(i * j)\n",
        "    result.append(row)\n",
        "print(result)"
      ],
      "metadata": {
        "colab": {
          "base_uri": "https://localhost:8080/"
        },
        "id": "PWTBbUJPlXBA",
        "outputId": "fef8db54-109f-4c60-830e-6b19f0c7cee9"
      },
      "execution_count": 11,
      "outputs": [
        {
          "output_type": "stream",
          "name": "stdout",
          "text": [
            "Enter number of rows: 3\n",
            "Enter number of columns: 4\n",
            "[[0, 0, 0, 0], [0, 1, 2, 3], [0, 2, 4, 6]]\n"
          ]
        }
      ]
    }
  ],
  "metadata": {
    "colab": {
      "name": "Welcome To Colab",
      "toc_visible": true,
      "provenance": []
    },
    "kernelspec": {
      "display_name": "Python 3",
      "name": "python3"
    }
  },
  "nbformat": 4,
  "nbformat_minor": 0
}