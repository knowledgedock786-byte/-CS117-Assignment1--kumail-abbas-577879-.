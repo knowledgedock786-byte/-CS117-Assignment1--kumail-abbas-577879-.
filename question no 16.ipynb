{
  "cells": [
    {
      "cell_type": "code",
      "source": [
        "num_1, num_2 = 0, 1\n",
        "for i in range(50):\n",
        "    if num_2 >= 50:\n",
        "        break\n",
        "    print(num_2, end=\" \")\n",
        "    num_1, num_2 = num_2, num_1 + num_2"
      ],
      "metadata": {
        "colab": {
          "base_uri": "https://localhost:8080/"
        },
        "id": "PWTBbUJPlXBA",
        "outputId": "6d2cadb2-d7ad-4cca-f78a-b10c46d80b8a"
      },
      "execution_count": 8,
      "outputs": [
        {
          "output_type": "stream",
          "name": "stdout",
          "text": [
            "1 1 2 3 5 8 13 21 34 "
          ]
        }
      ]
    }
  ],
  "metadata": {
    "colab": {
      "name": "Welcome To Colab",
      "toc_visible": true,
      "provenance": []
    },
    "kernelspec": {
      "display_name": "Python 3",
      "name": "python3"
    }
  },
  "nbformat": 4,
  "nbformat_minor": 0
}