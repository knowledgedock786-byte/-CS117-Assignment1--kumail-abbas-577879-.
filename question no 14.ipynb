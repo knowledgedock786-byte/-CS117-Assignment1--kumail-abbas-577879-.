{
  "cells": [
    {
      "cell_type": "code",
      "source": [
        "numbers = input(\"Enter numbers separated by spaces: \")\n",
        "numbers = [int(x) for x in numbers.split()]\n",
        "even_numbers = 0\n",
        "odd_numbers = 0\n",
        "for i in numbers:\n",
        "    if i % 2 == 0:\n",
        "        even_numbers += 1\n",
        "    else:\n",
        "        odd_numbers += 1\n",
        "print(\"Number of even numbers:\", even_numbers)\n",
        "print(\"Number of odd numbers:\", odd_numbers)"
      ],
      "metadata": {
        "colab": {
          "base_uri": "https://localhost:8080/"
        },
        "id": "PWTBbUJPlXBA",
        "outputId": "0fbd2a10-4391-47fa-ca99-3ace3647c862"
      },
      "execution_count": 6,
      "outputs": [
        {
          "output_type": "stream",
          "name": "stdout",
          "text": [
            "Enter numbers separated by spaces: 1 2 52 2 3 23 3 3 3 6 5 9 7 6 78 656 78 687 6\n",
            "Number of even numbers: 9\n",
            "Number of odd numbers: 10\n"
          ]
        }
      ]
    }
  ],
  "metadata": {
    "colab": {
      "name": "Welcome To Colab",
      "toc_visible": true,
      "provenance": []
    },
    "kernelspec": {
      "display_name": "Python 3",
      "name": "python3"
    }
  },
  "nbformat": 4,
  "nbformat_minor": 0
}