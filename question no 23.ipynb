{
  "cells": [
    {
      "cell_type": "code",
      "source": [
        "def multiply_list(numbers):\n",
        "    result = 1\n",
        "    for i in numbers:\n",
        "        result *= i\n",
        "    return result\n",
        "num = input(\"Enter the list of number separated by spaces you want to multiply: \")\n",
        "num = [int(x) for x in num.split()]\n",
        "print(\"Multiplication of the list:\", multiply_list(num))"
      ],
      "metadata": {
        "colab": {
          "base_uri": "https://localhost:8080/"
        },
        "id": "PWTBbUJPlXBA",
        "outputId": "9a152c2f-7118-4c66-8ae0-2f2da458ab7b"
      },
      "execution_count": 24,
      "outputs": [
        {
          "output_type": "stream",
          "name": "stdout",
          "text": [
            "Enter the list of number separated by spaces you want to multiply: 1 2 3 4 5\n",
            "Multiplication of the list: 120\n"
          ]
        }
      ]
    }
  ],
  "metadata": {
    "colab": {
      "name": "Welcome To Colab",
      "provenance": []
    },
    "kernelspec": {
      "display_name": "Python 3",
      "name": "python3"
    }
  },
  "nbformat": 4,
  "nbformat_minor": 0
}