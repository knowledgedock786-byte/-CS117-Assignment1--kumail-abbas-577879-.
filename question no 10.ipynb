{
  "cells": [
    {
      "cell_type": "code",
      "source": [
        "side_1 = int(input(\"Enter first side of triangle: \"))\n",
        "side_2 = int(input(\"Enter second side of triangle: \"))\n",
        "side_3 = int(input(\"Enter third side of triangle: \"))\n",
        "if side_1==side_2==side_3:\n",
        "    print(\"it is Equilateral triangle\")\n",
        "elif side_1==side_2 or side_2==side_3 or side_1==side_3:\n",
        "    print(\"it is Isosceles triangle\")\n",
        "else:\n",
        "    print(\"it is Scalene triangle\")"
      ],
      "metadata": {
        "colab": {
          "base_uri": "https://localhost:8080/"
        },
        "id": "PWTBbUJPlXBA",
        "outputId": "d945159c-3a7b-4de5-8509-5f6dabf04006"
      },
      "execution_count": 32,
      "outputs": [
        {
          "output_type": "stream",
          "name": "stdout",
          "text": [
            "Enter first side of triangle: 12\n",
            "Enter second side of triangle: 5\n",
            "Enter third side of triangle: 14\n",
            "it is Scalene triangle\n"
          ]
        }
      ]
    }
  ],
  "metadata": {
    "colab": {
      "name": "Welcome To Colab",
      "toc_visible": true,
      "provenance": []
    },
    "kernelspec": {
      "display_name": "Python 3",
      "name": "python3"
    }
  },
  "nbformat": 4,
  "nbformat_minor": 0
}