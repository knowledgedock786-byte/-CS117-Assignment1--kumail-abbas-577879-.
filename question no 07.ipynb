{
  "cells": [
    {
      "cell_type": "code",
      "source": [
        "city = input(\"Enter a city name: \")\n",
        "if city.lower() == \"islamabad\":\n",
        "    print(\"Monument = the Pakistan Monument\")\n",
        "elif city.lower() == \"lahore\":\n",
        "    print(\"Monument = Minar-e-Pakistan\")\n",
        "elif city.lower() == \"karachi\":\n",
        "    print(\"Monument = Quaid-e-Azam Mausoleum\")\n",
        "elif city.lower() == \"quetta\":\n",
        "    print(\"Monument = Ziarat Residency\")\n",
        "elif city.lower() == \"peshawar\":\n",
        "    print(\"Monument = Bala Hisar Fort\")\n",
        "elif city.lower() == \"gilgit\":\n",
        "    print(\"Monument = Kargah Buddha\")\n",
        "else:\n",
        "    print(\"Monument for this city is not initialized\")"
      ],
      "metadata": {
        "colab": {
          "base_uri": "https://localhost:8080/"
        },
        "id": "PWTBbUJPlXBA",
        "outputId": "94c16fd4-774c-4e40-b556-ab69fb7b5431"
      },
      "execution_count": 15,
      "outputs": [
        {
          "output_type": "stream",
          "name": "stdout",
          "text": [
            "Enter a city name: gilgit\n",
            "Monument = Kargah Buddha\n"
          ]
        }
      ]
    }
  ],
  "metadata": {
    "colab": {
      "name": "Welcome To Colab",
      "toc_visible": true,
      "provenance": []
    },
    "kernelspec": {
      "display_name": "Python 3",
      "name": "python3"
    }
  },
  "nbformat": 4,
  "nbformat_minor": 0
}