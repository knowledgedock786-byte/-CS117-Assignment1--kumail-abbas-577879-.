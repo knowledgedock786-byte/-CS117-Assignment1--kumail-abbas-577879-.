{
  "cells": [
    {
      "cell_type": "code",
      "source": [
        "i = int(input(\"Enter a number: \"))\n",
        "last_digit = i % 10\n",
        "print(\"The last digit is:\", last_digit)"
      ],
      "metadata": {
        "colab": {
          "base_uri": "https://localhost:8080/"
        },
        "id": "PWTBbUJPlXBA",
        "outputId": "0bf92c04-5849-43a2-fcb7-b73a51641ba0"
      },
      "execution_count": 9,
      "outputs": [
        {
          "output_type": "stream",
          "name": "stdout",
          "text": [
            "Enter a number: 579\n",
            "The last digit is: 9\n"
          ]
        }
      ]
    }
  ],
  "metadata": {
    "colab": {
      "name": "Welcome To Colab",
      "toc_visible": true,
      "provenance": []
    },
    "kernelspec": {
      "display_name": "Python 3",
      "name": "python3"
    }
  },
  "nbformat": 4,
  "nbformat_minor": 0
}