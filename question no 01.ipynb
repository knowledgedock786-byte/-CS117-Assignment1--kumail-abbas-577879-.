{
  "cells": [
    {
      "cell_type": "markdown",
      "source": [
        "# New Section"
      ],
      "metadata": {
        "id": "3bc5BpJJSuGK"
      }
    },
    {
      "cell_type": "code",
      "source": [
        "age = int(input(\"Enter the persons age: \"))\n",
        "if age >= 18:\n",
        "    print(\"the person is eligible to vote.\")\n",
        "else:\n",
        "    print(\"this person is not eligible to vote.\")"
      ],
      "metadata": {
        "colab": {
          "base_uri": "https://localhost:8080/"
        },
        "id": "wMBvMiCaSwaH",
        "outputId": "c72b3f1c-9b76-4f70-e7a6-12b9d35e8ffe"
      },
      "execution_count": 6,
      "outputs": [
        {
          "output_type": "stream",
          "name": "stdout",
          "text": [
            "Enter the persons age: 18\n",
            "the person is eligible to vote.\n"
          ]
        }
      ]
    }
  ],
  "metadata": {
    "colab": {
      "name": "Welcome To Colab",
      "toc_visible": true,
      "provenance": []
    },
    "kernelspec": {
      "display_name": "Python 3",
      "name": "python3"
    }
  },
  "nbformat": 4,
  "nbformat_minor": 0
}