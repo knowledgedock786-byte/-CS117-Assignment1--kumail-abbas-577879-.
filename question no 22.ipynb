{
  "cells": [
    {
      "cell_type": "code",
      "source": [
        "def sum_list(numbers):\n",
        "    total = 0\n",
        "    for i in numbers:\n",
        "        total += i\n",
        "    return total\n",
        "num = [8, 2, 3, 0, 7]\n",
        "print(\"Sum of the list:\", sum_list(num))"
      ],
      "metadata": {
        "colab": {
          "base_uri": "https://localhost:8080/"
        },
        "id": "PWTBbUJPlXBA",
        "outputId": "750e72dc-8c3c-4af5-d7be-7bc1a233892c"
      },
      "execution_count": 18,
      "outputs": [
        {
          "output_type": "stream",
          "name": "stdout",
          "text": [
            "Sum of the list: 20\n"
          ]
        }
      ]
    }
  ],
  "metadata": {
    "colab": {
      "name": "Welcome To Colab",
      "provenance": []
    },
    "kernelspec": {
      "display_name": "Python 3",
      "name": "python3"
    }
  },
  "nbformat": 4,
  "nbformat_minor": 0
}