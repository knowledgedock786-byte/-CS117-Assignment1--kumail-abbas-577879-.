{
  "cells": [
    {
      "cell_type": "code",
      "source": [
        "import string\n",
        "def is_pangram(s):\n",
        "    alphabet = set(string.ascii_lowercase)\n",
        "    s_letters = set(s.lower())\n",
        "    return alphabet <= s_letters\n",
        "user_input = input(\"Enter a string: \")\n",
        "if is_pangram(user_input):\n",
        "    print(\"It is a pangram\")\n",
        "else:\n",
        "    print(\"It is not a pangram\")"
      ],
      "metadata": {
        "colab": {
          "base_uri": "https://localhost:8080/"
        },
        "id": "PWTBbUJPlXBA",
        "outputId": "57513df1-cee4-4f6b-9ea5-b345d31dcb6b"
      },
      "execution_count": 36,
      "outputs": [
        {
          "output_type": "stream",
          "name": "stdout",
          "text": [
            "Enter a string: The quick brown fox jumps over the lazy dog\n",
            "It is a pangram\n"
          ]
        }
      ]
    }
  ],
  "metadata": {
    "colab": {
      "name": "Welcome To Colab",
      "provenance": []
    },
    "kernelspec": {
      "display_name": "Python 3",
      "name": "python3"
    }
  },
  "nbformat": 4,
  "nbformat_minor": 0
}