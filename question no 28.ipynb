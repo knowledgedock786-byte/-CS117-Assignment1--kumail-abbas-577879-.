{
  "cells": [
    {
      "cell_type": "code",
      "source": [
        "import time\n",
        "import math\n",
        "def calculate_square_root(number):\n",
        "    print(math.sqrt(number))\n",
        "numbers = [16, 100, 25088]\n",
        "print(\"Square root of 16, 100, and 25088 after 1500 milliseconds each:\")\n",
        "for num in numbers:\n",
        "    time.sleep(1.5)  # 1500 milliseconds ka delay\n",
        "    calculate_square_root(num)"
      ],
      "metadata": {
        "colab": {
          "base_uri": "https://localhost:8080/"
        },
        "id": "PWTBbUJPlXBA",
        "outputId": "8ee3ea35-86bf-4359-9379-066255a15297"
      },
      "execution_count": 38,
      "outputs": [
        {
          "output_type": "stream",
          "name": "stdout",
          "text": [
            "Square root of 16, 100, and 25088 after 1500 milliseconds each:\n",
            "4.0\n",
            "10.0\n",
            "158.39191898578665\n"
          ]
        }
      ]
    }
  ],
  "metadata": {
    "colab": {
      "name": "Welcome To Colab",
      "provenance": []
    },
    "kernelspec": {
      "display_name": "Python 3",
      "name": "python3"
    }
  },
  "nbformat": 4,
  "nbformat_minor": 0
}