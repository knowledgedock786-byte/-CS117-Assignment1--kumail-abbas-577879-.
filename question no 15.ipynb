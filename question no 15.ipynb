{
  "cells": [
    {
      "cell_type": "code",
      "source": [
        "for number in range(7):\n",
        "    if number == 3 or number == 6:\n",
        "        continue\n",
        "    print(number, end=\" \")"
      ],
      "metadata": {
        "colab": {
          "base_uri": "https://localhost:8080/"
        },
        "id": "PWTBbUJPlXBA",
        "outputId": "89249d20-dddf-41da-8c02-db361c6fbe6f"
      },
      "execution_count": 7,
      "outputs": [
        {
          "output_type": "stream",
          "name": "stdout",
          "text": [
            "0 1 2 4 5 "
          ]
        }
      ]
    }
  ],
  "metadata": {
    "colab": {
      "name": "Welcome To Colab",
      "toc_visible": true,
      "provenance": []
    },
    "kernelspec": {
      "display_name": "Python 3",
      "name": "python3"
    }
  },
  "nbformat": 4,
  "nbformat_minor": 0
}