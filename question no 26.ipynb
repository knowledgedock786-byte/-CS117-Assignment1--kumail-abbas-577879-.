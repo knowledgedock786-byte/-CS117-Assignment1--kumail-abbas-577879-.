{
  "cells": [
    {
      "cell_type": "code",
      "source": [
        "def pascal_triangle(n):\n",
        "    triangle = []\n",
        "    for i in range(n):\n",
        "        row = [1]\n",
        "        if i > 0:\n",
        "            for j in range(1, i):\n",
        "                row.append(triangle[i-1][j-1] + triangle[i-1][j])\n",
        "            row.append(1)\n",
        "        triangle.append(row)\n",
        "    max_width = len(\"   \".join(map(str, triangle[-1])))\n",
        "    for row in triangle:\n",
        "        row_str = \"   \".join(map(str, row))\n",
        "        print(row_str.center(max_width))\n",
        "num_rows = int(input(\"Enter number of rows: \"))\n",
        "pascal_triangle(num_rows)"
      ],
      "metadata": {
        "colab": {
          "base_uri": "https://localhost:8080/"
        },
        "id": "PWTBbUJPlXBA",
        "outputId": "2b3c92ae-b1c1-436d-93b0-39401517fb19"
      },
      "execution_count": 33,
      "outputs": [
        {
          "output_type": "stream",
          "name": "stdout",
          "text": [
            "Enter number of rows: 5\n",
            "        1        \n",
            "      1   1      \n",
            "    1   2   1    \n",
            "  1   3   3   1  \n",
            "1   4   6   4   1\n"
          ]
        }
      ]
    }
  ],
  "metadata": {
    "colab": {
      "name": "Welcome To Colab",
      "provenance": []
    },
    "kernelspec": {
      "display_name": "Python 3",
      "name": "python3"
    }
  },
  "nbformat": 4,
  "nbformat_minor": 0
}