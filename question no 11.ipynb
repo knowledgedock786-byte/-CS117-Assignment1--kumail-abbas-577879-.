{
  "cells": [
    {
      "cell_type": "code",
      "source": [
        "import time\n",
        "variable_num = int(str(time.time()).replace('.', '')[-1])\n",
        "correct_number = (variable_num % 9) + 1\n",
        "while True:\n",
        "    guess = int(input(\"Guess a number between 1 and 9: \"))\n",
        "    if guess == correct_number:\n",
        "        print(\"Well guessed!\")\n",
        "        break\n",
        "    else:\n",
        "      print(\"Try again!\")"
      ],
      "metadata": {
        "colab": {
          "base_uri": "https://localhost:8080/"
        },
        "id": "PWTBbUJPlXBA",
        "outputId": "d5e6ef71-1789-449e-92e9-b72fd750b129"
      },
      "execution_count": 39,
      "outputs": [
        {
          "output_type": "stream",
          "name": "stdout",
          "text": [
            "Guess a number between 1 and 9: 5\n",
            "Try again!\n",
            "Guess a number between 1 and 9: 4\n",
            "Well guessed!\n"
          ]
        }
      ]
    }
  ],
  "metadata": {
    "colab": {
      "name": "Welcome To Colab",
      "toc_visible": true,
      "provenance": []
    },
    "kernelspec": {
      "display_name": "Python 3",
      "name": "python3"
    }
  },
  "nbformat": 4,
  "nbformat_minor": 0
}