{
  "cells": [
    {
      "cell_type": "code",
      "source": [
        "for row in range(7):\n",
        "    if row == 0 or row == 3 or row == 6:\n",
        "        print(\"*****\")\n",
        "    else:\n",
        "        print(\"*\")"
      ],
      "metadata": {
        "colab": {
          "base_uri": "https://localhost:8080/"
        },
        "id": "PWTBbUJPlXBA",
        "outputId": "41b45159-38f5-4a73-eecc-3c3f1019df03"
      },
      "execution_count": 15,
      "outputs": [
        {
          "output_type": "stream",
          "name": "stdout",
          "text": [
            "*****\n",
            "*\n",
            "*\n",
            "*****\n",
            "*\n",
            "*\n",
            "*****\n"
          ]
        }
      ]
    }
  ],
  "metadata": {
    "colab": {
      "name": "Welcome To Colab",
      "provenance": []
    },
    "kernelspec": {
      "display_name": "Python 3",
      "name": "python3"
    }
  },
  "nbformat": 4,
  "nbformat_minor": 0
}