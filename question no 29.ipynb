{
  "cells": [
    {
      "cell_type": "code",
      "source": [
        "def prime_factors(n):\n",
        "    factors = []\n",
        "    i = 2\n",
        "    while i <= n:\n",
        "        if n % i == 0:\n",
        "            factors.append(i)\n",
        "            n = n // i\n",
        "        else:\n",
        "            i += 1\n",
        "    return factors\n",
        "num = int(input(\"Enter the number whose factors yau want: \"))\n",
        "print(\"Prime factors:\", prime_factors(num))"
      ],
      "metadata": {
        "colab": {
          "base_uri": "https://localhost:8080/"
        },
        "id": "PWTBbUJPlXBA",
        "outputId": "0e436538-10ff-4ad1-b1cc-c47704546ec4"
      },
      "execution_count": 40,
      "outputs": [
        {
          "output_type": "stream",
          "name": "stdout",
          "text": [
            "Enter the number whose factors yau want: 48\n",
            "Prime factors: [2, 2, 2, 2, 3]\n"
          ]
        }
      ]
    }
  ],
  "metadata": {
    "colab": {
      "name": "Welcome To Colab",
      "provenance": []
    },
    "kernelspec": {
      "display_name": "Python 3",
      "name": "python3"
    }
  },
  "nbformat": 4,
  "nbformat_minor": 0
}